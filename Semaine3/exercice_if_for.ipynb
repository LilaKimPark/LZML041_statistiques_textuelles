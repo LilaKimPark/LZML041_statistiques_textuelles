{
 "cells": [
  {
   "cell_type": "code",
   "execution_count": null,
   "id": "049262f8-c422-4f12-92da-474e57d43ed5",
   "metadata": {},
   "outputs": [],
   "source": [
    "# Ecrire un programme en Python qui prend un argument n et qui renvoie le booléan True si n est pair et False si n est impair\n",
    "\n"
   ]
  },
  {
   "cell_type": "code",
   "execution_count": null,
   "id": "72d695f8-1430-4676-b81a-761b424d5f2d",
   "metadata": {},
   "outputs": [],
   "source": []
  },
  {
   "cell_type": "code",
   "execution_count": null,
   "id": "6c4ba120-6db6-4d80-b747-f704850ced52",
   "metadata": {},
   "outputs": [],
   "source": [
    "# Ecrire un programme en Python qui calcule la somme des éléments d'une liste de nombres, avec deux méthodes :\n",
    "# 1. En parcourant les éléments par leur indice,\n",
    "# 2. Avec la syntaxe for element in liste\n"
   ]
  },
  {
   "cell_type": "code",
   "execution_count": null,
   "id": "c5879dc1-85ca-4f0c-92e7-245bb8841889",
   "metadata": {},
   "outputs": [],
   "source": []
  },
  {
   "cell_type": "code",
   "execution_count": null,
   "id": "0465b15e-d575-4ec2-a975-05595f6ad791",
   "metadata": {},
   "outputs": [],
   "source": [
    "# 1. Vous disposez d'une liste de nombres [2, 5, 7, 10, 13, 18]\n",
    "# 2. Ecrivez un programme en Python qui calcule la somme de tous les nombres pairs de la liste à l'aide d'une boucle for\n",
    "# 3. Affichez ensuite cette somme à l'écran.\n",
    "\n"
   ]
  }
 ],
 "metadata": {
  "kernelspec": {
   "display_name": "Python [conda env:base] *",
   "language": "python",
   "name": "conda-base-py"
  },
  "language_info": {
   "codemirror_mode": {
    "name": "ipython",
    "version": 3
   },
   "file_extension": ".py",
   "mimetype": "text/x-python",
   "name": "python",
   "nbconvert_exporter": "python",
   "pygments_lexer": "ipython3",
   "version": "3.12.7"
  }
 },
 "nbformat": 4,
 "nbformat_minor": 5
}
