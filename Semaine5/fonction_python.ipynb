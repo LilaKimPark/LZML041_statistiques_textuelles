{
 "cells": [
  {
   "cell_type": "code",
   "execution_count": null,
   "metadata": {},
   "outputs": [],
   "source": [
    "\"\"\"Une fonction est une suite d'instructions que l'on peut appeler avec un nom\n",
    "\n",
    "\n",
    "Début fonction : Mot clé + nom de la fonction + argument(s)\n",
    "            ex)    def       NOM_FONCTION       (argument)\n",
    "\n",
    "\n",
    "Intérieur fonction : Blocs d'insctructions\n",
    "            ex)        x = 0\n",
    "\n",
    "Fin fonction : Mot clé + valeur renvoyée\n",
    "            ex) retrun VALEUR\n",
    "\n",
    "\n",
    "\n",
    "/!\\ Noter que lors de l'exécution de l'instruction 'return' la fonction prend fin\n",
    "/!\\ A l'intérieur d'une fonction, tout (instructions) est décalé avec une tabulation\n",
    "\n",
    "\n",
    "\"\"\""
   ]
  },
  {
   "cell_type": "code",
   "execution_count": null,
   "metadata": {},
   "outputs": [],
   "source": [
    "# return : retourner et récupérer le résultat\n",
    "# print : afficher la valeur de la fonction (pas valeur renvoyée)"
   ]
  },
  {
   "cell_type": "code",
   "execution_count": null,
   "metadata": {},
   "outputs": [],
   "source": [
    "# code pour calculer le carré de x\n",
    "x = 3\n",
    "y = x**2\n",
    "print(y)"
   ]
  },
  {
   "cell_type": "code",
   "execution_count": null,
   "metadata": {},
   "outputs": [],
   "source": [
    "# on peut créer une fonction pour calculer le carré de x \n",
    "# la création d'une fonction permet d'éviter la répétition des codes\n",
    "\n",
    "def calcul_carre_x(): # début de fonction\n",
    "    x = 3             # instructions\n",
    "    y = x**2\n",
    "    return y          # fin de fonction \n",
    "\n",
    "# cette fonction calcule le carré de x qui a une valeur déjà définie (== 3)\n",
    "# la fonction est créée, mémorisée, on peut la réutiliser autant que l'on le souhaite.\n",
    "\n",
    "calcul_carre_x() # exécution de la fonction calcul_carre_x\n",
    "res = calcul_carre_x() # on garde le résultat de la fonction (==y) dans la variable res\n",
    "\n",
    "# résultat obtenu ?\n"
   ]
  },
  {
   "cell_type": "code",
   "execution_count": null,
   "metadata": {},
   "outputs": [],
   "source": [
    "# Maintenant, on va créer une fonction qui prend un argument x pour calculer le carré\n",
    "\n",
    "def calcul_carre(x): # début fonction : on donne un argument x à la fonction\n",
    "                     # ainsi, on peut utiliser la variable x dans les codes\n",
    "    y = x**2         # attribution d'une valeur (3) à la variable x n'est plus nécessaire\n",
    "    return y         # fin fonction\n",
    "\n",
    "calcul_carre(3) # ici 3 est considéré comme argument de la fonction\n",
    "                # la variable x va avoir 3 comme valeur attribuée\n",
    "                \n",
    "res = calcul_carre(4) # on peut simplement changer la valeur de l'argument "
   ]
  },
  {
   "cell_type": "code",
   "execution_count": null,
   "metadata": {},
   "outputs": [],
   "source": [
    "# On peut donner plusieurs argument à une fonction\n",
    "\n",
    "def add(x,y):\n",
    "    return x+y\n",
    "\n",
    "def sous(x,y):\n",
    "    return x-y\n",
    "\n",
    "def mult(x,y):\n",
    "    return x*y"
   ]
  },
  {
   "cell_type": "code",
   "execution_count": null,
   "metadata": {},
   "outputs": [],
   "source": [
    "\"\"\"\n",
    "Exercice 1. \n",
    "Écrivez une fonction dessine_carre(n) qui affiche à l'écran un carré composé de n lignes et n colonnes d'étoiles (*).\n",
    "\n",
    ">>> dessine_carre(n)\n",
    "*****\n",
    "*****\n",
    "*****\n",
    "*****\n",
    "*****\n",
    "\n",
    "\"\"\""
   ]
  },
  {
   "cell_type": "code",
   "execution_count": null,
   "metadata": {},
   "outputs": [],
   "source": [
    "\"\"\"\n",
    "Exercice 2.\n",
    "Écrivez une procédure triangle(n) qui affiche à l’écran un triangle constitué d’étoiles (*) avec n lignes.\n",
    "\n",
    ">>> triangle(5)\n",
    "*\n",
    "**\n",
    "***\n",
    "****\n",
    "*****\n",
    "\n",
    "\"\"\""
   ]
  },
  {
   "cell_type": "code",
   "execution_count": null,
   "metadata": {},
   "outputs": [],
   "source": [
    "\"\"\"\n",
    "Exercice 3. Boucle imbriquée\n",
    "On note n la longueur d'une chaine 'texte' et p la longueur d'une sous-chaine 'mot' que l'on cherche dans 'texte'.\n",
    "On propose l'algorithme ci-dessous, expliquez ce que fait l'algorithme.\n",
    "\"\"\"\n",
    "\n",
    "\n",
    "def recherche_motif(mot, texte):\n",
    "    n = len(texte)\n",
    "    for i in range(n):\n",
    "        for j in range(i, n):\n",
    "            if mot == texte[i:j]:\n",
    "                return True\n",
    "    return False\n"
   ]
  },
  {
   "cell_type": "code",
   "execution_count": null,
   "metadata": {},
   "outputs": [],
   "source": [
    "\"\"\"\n",
    "\n",
    "Exercice 4.\n",
    "Convertissez la boucle for en liste en compréhension\n",
    "\n",
    "nombres = [1, 2, 3, 4, 5]\n",
    "doubles = []\n",
    "for nombre in nombres:\n",
    "    doubles.append(nombre * 2)\n",
    "\n",
    "\"\"\""
   ]
  },
  {
   "cell_type": "code",
   "execution_count": null,
   "metadata": {},
   "outputs": [],
   "source": [
    "\"\"\"\n",
    "Exercice 5.\n",
    "\n",
    "\n",
    "On a une liste de nombres [1, 2, 3, 4, 5, 6, 7, 8, 9, 10]\n",
    "Avec une boucle for classique, créez une nouvelle liste contenant uniquement les nombres pairs.\n",
    "Avec une liste en compréhension, faites la même chose mais en une seule ligne.\n",
    "\n",
    "\"\"\""
   ]
  },
  {
   "cell_type": "code",
   "execution_count": null,
   "metadata": {},
   "outputs": [],
   "source": [
    "\"\"\"\n",
    "Exercice 6.\n",
    "Écrivez une boucle for classique qui extrait toutes les voyelles (a, e, i, o, u, y) d'une phrase.\n",
    "Puis convertissez-la en liste en compréhension.\n",
    "\n",
    "\"\"\"\n",
    "texte = \"Python est un langage génial\""
   ]
  },
  {
   "cell_type": "code",
   "execution_count": null,
   "metadata": {},
   "outputs": [],
   "source": [
    "\"\"\"\n",
    "\n",
    "Exercice 7.\n",
    "Ecrivez une fonction qui compte le nombre de mots dans une phrase.\n",
    "\n",
    "len() \n",
    ".split()\n",
    "\"\"\""
   ]
  },
  {
   "cell_type": "code",
   "execution_count": null,
   "metadata": {},
   "outputs": [],
   "source": [
    "\"\"\" \n",
    "\n",
    "Exercice 8.\n",
    "Ecrivez une fonction qui retourne le mot le plus long dans une phrase.\n",
    "\n",
    ".split()\n",
    "max(mots, key=len)\n",
    "\"\"\""
   ]
  },
  {
   "cell_type": "code",
   "execution_count": null,
   "metadata": {},
   "outputs": [],
   "source": [
    "\"\"\"\n",
    "\n",
    "Exercice 9.\n",
    "Ecrivez une fonction qui supprimer tous les signes de ponctuation d'un texte.\n",
    "\n",
    "import re\n",
    "re.sub()\n",
    "\"\"\""
   ]
  },
  {
   "cell_type": "code",
   "execution_count": null,
   "metadata": {},
   "outputs": [],
   "source": [
    "\"\"\"\n",
    "\n",
    "Exercice 10.\n",
    "Ecrivez une fonction qui compte la fréquence de chaque mot dans un texte et retourne un dictionnaire\n",
    "{mot : frequence}\n",
    "\n",
    "\n",
    ".lower()\n",
    ".split()\n",
    "from collections import Counter\n",
    "Counter(mots)\n",
    "\"\"\""
   ]
  },
  {
   "cell_type": "code",
   "execution_count": null,
   "metadata": {},
   "outputs": [],
   "source": []
  },
  {
   "cell_type": "code",
   "execution_count": null,
   "metadata": {},
   "outputs": [],
   "source": []
  },
  {
   "cell_type": "code",
   "execution_count": null,
   "metadata": {},
   "outputs": [],
   "source": []
  },
  {
   "cell_type": "code",
   "execution_count": null,
   "metadata": {},
   "outputs": [],
   "source": [
    "pip install pandas"
   ]
  },
  {
   "cell_type": "code",
   "execution_count": null,
   "metadata": {},
   "outputs": [],
   "source": [
    "import numpy as np # linear algebra\n",
    "import os # accessing directory structure\n",
    "import pandas as pd # data processing, CSV file I/O (e.g. pd.read_csv)"
   ]
  },
  {
   "cell_type": "code",
   "execution_count": null,
   "metadata": {},
   "outputs": [],
   "source": [
    "# étape 1: mettre le fichier sur votre poste C:\\Users\\loubn\\Codes_Cours pour moi\n",
    "nRowsRead = 1000 # specify 'None' if want to read whole file\n"
   ]
  },
  {
   "cell_type": "code",
   "execution_count": null,
   "metadata": {},
   "outputs": [],
   "source": [
    "# Bitcoin_tweets.csv may have more rows in reality, but we are only loading/previewing the first 1000 rows\n",
    "df = pd.read_csv('Bitcoin_data.csv', delimiter=',', nrows = nRowsRead)\n"
   ]
  },
  {
   "cell_type": "code",
   "execution_count": null,
   "metadata": {},
   "outputs": [],
   "source": [
    "df.dataframeName = 'Bitcoin_data.csv'\n"
   ]
  },
  {
   "cell_type": "code",
   "execution_count": null,
   "metadata": {},
   "outputs": [],
   "source": [
    "nRow, nCol = df.shape\n",
    "print(f'There are {nRow} rows and {nCol} columns')"
   ]
  },
  {
   "cell_type": "code",
   "execution_count": null,
   "metadata": {},
   "outputs": [],
   "source": [
    "df.head(5)"
   ]
  },
  {
   "cell_type": "code",
   "execution_count": null,
   "metadata": {},
   "outputs": [],
   "source": [
    "df.drop(columns=df.columns[0],axis=1,inplace=True)\n"
   ]
  },
  {
   "cell_type": "code",
   "execution_count": null,
   "metadata": {},
   "outputs": [],
   "source": [
    "df.head(5)"
   ]
  },
  {
   "cell_type": "code",
   "execution_count": null,
   "metadata": {},
   "outputs": [],
   "source": [
    "type(df)"
   ]
  },
  {
   "cell_type": "code",
   "execution_count": null,
   "metadata": {},
   "outputs": [],
   "source": [
    "print(df.loc[0])"
   ]
  },
  {
   "cell_type": "code",
   "execution_count": null,
   "metadata": {},
   "outputs": [],
   "source": [
    "df.loc"
   ]
  },
  {
   "cell_type": "code",
   "execution_count": null,
   "metadata": {},
   "outputs": [],
   "source": [
    "text=df['Tweet']\n"
   ]
  },
  {
   "cell_type": "code",
   "execution_count": null,
   "metadata": {},
   "outputs": [],
   "source": [
    "type(text)"
   ]
  },
  {
   "cell_type": "code",
   "execution_count": null,
   "metadata": {},
   "outputs": [],
   "source": [
    "text.head(5)"
   ]
  },
  {
   "cell_type": "code",
   "execution_count": null,
   "metadata": {},
   "outputs": [],
   "source": [
    "text.shape"
   ]
  },
  {
   "cell_type": "code",
   "execution_count": null,
   "metadata": {},
   "outputs": [],
   "source": [
    "print(text[0])"
   ]
  },
  {
   "cell_type": "code",
   "execution_count": null,
   "metadata": {},
   "outputs": [],
   "source": [
    "#Data transformation\n",
    "print(text[0].lower()) # Converts strings in the Series/Index to lower case."
   ]
  },
  {
   "cell_type": "code",
   "execution_count": null,
   "metadata": {},
   "outputs": [],
   "source": [
    "print(text[0].upper()) # Converts strings in the Series/Index to Upper case.\n",
    "type(text[0])"
   ]
  },
  {
   "cell_type": "code",
   "execution_count": null,
   "metadata": {},
   "outputs": [],
   "source": [
    "print(text[0].split())"
   ]
  },
  {
   "cell_type": "code",
   "execution_count": null,
   "metadata": {},
   "outputs": [],
   "source": [
    "#Make all words lowercase\n",
    "text.str.lower()"
   ]
  },
  {
   "cell_type": "code",
   "execution_count": null,
   "metadata": {},
   "outputs": [],
   "source": [
    "#Strip unnecessary spaces\n",
    "text.str.strip()"
   ]
  },
  {
   "cell_type": "code",
   "execution_count": null,
   "metadata": {},
   "outputs": [],
   "source": [
    "import numpy as np\n",
    "import regex as re\n",
    "from collections import Counter"
   ]
  },
  {
   "cell_type": "code",
   "execution_count": null,
   "metadata": {},
   "outputs": [],
   "source": [
    "text.apply(lambda x:str(x.lower()).split())"
   ]
  },
  {
   "cell_type": "code",
   "execution_count": null,
   "metadata": {},
   "outputs": [],
   "source": [
    "words = text.apply(lambda x:str(x.lower()).split())\n",
    "top=Counter([item for sublist in words for item in sublist])\n",
    "top"
   ]
  },
  {
   "cell_type": "code",
   "execution_count": null,
   "metadata": {},
   "outputs": [],
   "source": [
    "top.most_common(21)"
   ]
  }
 ],
 "metadata": {
  "kernelspec": {
   "display_name": "Python 3",
   "language": "python",
   "name": "python3"
  },
  "language_info": {
   "codemirror_mode": {
    "name": "ipython",
    "version": 3
   },
   "file_extension": ".py",
   "mimetype": "text/x-python",
   "name": "python",
   "nbconvert_exporter": "python",
   "pygments_lexer": "ipython3",
   "version": "3.10.9"
  }
 },
 "nbformat": 4,
 "nbformat_minor": 2
}
