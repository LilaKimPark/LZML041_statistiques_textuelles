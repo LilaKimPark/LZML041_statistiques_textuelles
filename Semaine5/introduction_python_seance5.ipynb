{
 "cells": [
  {
   "cell_type": "code",
   "execution_count": null,
   "id": "5b990a3b-f44f-403c-be9b-813bcab1f525",
   "metadata": {},
   "outputs": [],
   "source": [
    "#0... Let's check your python version !\n",
    "import sys\n",
    "print(sys.executable)\n",
    "print(sys.version)\n",
    "print(sys.version_info)"
   ]
  },
  {
   "cell_type": "code",
   "execution_count": null,
   "id": "28c40fbe-26f8-418d-ab8c-e82f78715bcf",
   "metadata": {},
   "outputs": [],
   "source": [
    "# Dictionnaires\n",
    "dict_test = {\"voiture\": \"quatre roues\", \"vélo\": \"deux roues\"}"
   ]
  },
  {
   "cell_type": "code",
   "execution_count": null,
   "id": "27a12ee8-5543-449d-b71c-778452dff41c",
   "metadata": {},
   "outputs": [],
   "source": [
    "type(dict_test)"
   ]
  },
  {
   "cell_type": "code",
   "execution_count": null,
   "id": "6a368908-0e23-4cdb-b939-24468fe0e2f0",
   "metadata": {},
   "outputs": [],
   "source": [
    "#On accède à une valeur du dictionnaire en utilisant la clé entourée par des crochets avec la syntaxe suivante\n",
    "dict_test [\"voiture\"]"
   ]
  },
  {
   "cell_type": "code",
   "execution_count": null,
   "id": "2b341115-373d-4c55-aad1-5a498abd5ee6",
   "metadata": {},
   "outputs": [],
   "source": [
    "#Pour ajouter un élément à un dictionnaire, il suffit d’affecter une valeur pour la nouvelle clé.\n",
    "dict_test[\"bateau\"]=\"ocean\"\n"
   ]
  },
  {
   "cell_type": "code",
   "execution_count": null,
   "id": "8d7631f0-1aae-4682-b8db-658b40a760ab",
   "metadata": {},
   "outputs": [],
   "source": [
    "dict_test"
   ]
  },
  {
   "cell_type": "code",
   "execution_count": null,
   "id": "2f288f60-679f-4d7a-8325-3ab3a381b66e",
   "metadata": {},
   "outputs": [],
   "source": [
    "#pour parcourir un dictionnaire"
   ]
  },
  {
   "cell_type": "code",
   "execution_count": null,
   "id": "ba49d5d1-a72d-43e4-88cf-17ad770c2c11",
   "metadata": {},
   "outputs": [],
   "source": [
    "for cle, valeur in dict_test.items():\n",
    "        print(\"l'élément de clé\", cle, \"vaut\", valeur)"
   ]
  },
  {
   "cell_type": "code",
   "execution_count": null,
   "id": "8d20d61c-ad64-4bd4-926c-bb7a2d705ed6",
   "metadata": {},
   "outputs": [],
   "source": [
    "pip install pandas"
   ]
  },
  {
   "cell_type": "code",
   "execution_count": null,
   "id": "060328c2-7bcd-4e4e-a874-b29546b5758a",
   "metadata": {},
   "outputs": [],
   "source": [
    "import numpy as np # linear algebra\n",
    "import os # accessing directory structure\n",
    "import pandas as pd # data processing, CSV file I/O (e.g. pd.read_csv)"
   ]
  },
  {
   "cell_type": "code",
   "execution_count": null,
   "id": "b850a6da-221f-4166-992c-3337662191c2",
   "metadata": {},
   "outputs": [],
   "source": [
    "# Bitcoin_tweets.csv may have more rows in reality, but we are only loading/previewing the first 1000 rows\n",
    "nRowsRead = 1000 # specify 'None' if want to read whole file\n",
    "# étape 1: mettre le chemin du fichier\n",
    "df = pd.read_csv('Bitcoin_data.csv', delimiter=',', nrows = nRowsRead)\n",
    "df.dataframeName = 'Bitcoin_data.csv'\n",
    "nRow, nCol = df.shape\n",
    "print(f'There are {nRow} rows and {nCol} columns')"
   ]
  },
  {
   "cell_type": "code",
   "execution_count": null,
   "id": "bc72afb6-0b44-4e39-acab-18ce08f0c32e",
   "metadata": {},
   "outputs": [],
   "source": [
    "df.head(5)"
   ]
  },
  {
   "cell_type": "code",
   "execution_count": null,
   "id": "9e0f6fa9-8e52-4b11-b830-4c876cb702d4",
   "metadata": {},
   "outputs": [],
   "source": [
    "df.drop(columns=df.columns[0],axis=1,inplace=True)\n"
   ]
  },
  {
   "cell_type": "code",
   "execution_count": null,
   "id": "1a5187ce-1801-4616-8f22-79d42ffbaafa",
   "metadata": {},
   "outputs": [],
   "source": [
    "df.head(5)"
   ]
  },
  {
   "cell_type": "code",
   "execution_count": null,
   "id": "b346afec-bed4-4d05-b489-a602f841f774",
   "metadata": {},
   "outputs": [],
   "source": [
    "# loc : pour accéder et manipuler les données dans Pandas\n",
    "print(df.loc[2]) # Accéder à une ligne en utilisant le label de la ligne"
   ]
  },
  {
   "cell_type": "code",
   "execution_count": null,
   "id": "9449b206-007b-43de-b231-e237d3c3eed3",
   "metadata": {},
   "outputs": [],
   "source": [
    "text=df['Tweet']\n"
   ]
  },
  {
   "cell_type": "code",
   "execution_count": null,
   "id": "dd8e1ed0-2d35-4fc7-92f4-df446f77b7c6",
   "metadata": {},
   "outputs": [],
   "source": [
    "text.head(5)"
   ]
  },
  {
   "cell_type": "code",
   "execution_count": null,
   "id": "b47cf542-a4f4-455f-9d1a-9e1c66c3c7f2",
   "metadata": {},
   "outputs": [],
   "source": [
    "text.shape"
   ]
  },
  {
   "cell_type": "code",
   "execution_count": null,
   "id": "584959fb-d35e-4402-8881-bffafc510a25",
   "metadata": {},
   "outputs": [],
   "source": [
    "print(text[0])"
   ]
  },
  {
   "cell_type": "code",
   "execution_count": null,
   "id": "467acc6e-4237-4d7a-be1a-c0798dd86f74",
   "metadata": {},
   "outputs": [],
   "source": [
    "#Data transformation\n",
    "print(text[0].lower()) # Converts strings in the Series/Index to lower case."
   ]
  },
  {
   "cell_type": "code",
   "execution_count": null,
   "id": "ade94426-36d9-4783-a20d-17b3f12e1c8a",
   "metadata": {},
   "outputs": [],
   "source": [
    "print(text[0].upper()) # Converts strings in the Series/Index to Upper case."
   ]
  },
  {
   "cell_type": "code",
   "execution_count": null,
   "id": "d07bc9f3-08ae-4d3b-ae22-0962ceaf189f",
   "metadata": {},
   "outputs": [],
   "source": [
    "print(text[0].split()) # couper en petits morceaux, chaque morceau étant séparé des autres par une espace"
   ]
  },
  {
   "cell_type": "code",
   "execution_count": null,
   "id": "c24f8340-6c60-4063-aa4f-37d2481e3f7b",
   "metadata": {},
   "outputs": [],
   "source": [
    "# Make all words lowercase\n",
    "# str : to access the values of the series as strings\n",
    "# series : like a column in a table. It is a one-dimensional array (tableau) holding data of any type.\n",
    "text.str.lower()"
   ]
  },
  {
   "cell_type": "code",
   "execution_count": null,
   "id": "23fe9b76-6bf7-4a58-b7d1-b90f531dfa59",
   "metadata": {},
   "outputs": [],
   "source": [
    "# Strip unnecessary spaces\n",
    "# supprimer les espaces non nécessaires au début/fin d'une phrase\n",
    "text.str.strip()"
   ]
  },
  {
   "cell_type": "code",
   "execution_count": null,
   "id": "00e6b2d9",
   "metadata": {},
   "outputs": [],
   "source": []
  },
  {
   "cell_type": "markdown",
   "id": "a83d8ffa",
   "metadata": {},
   "source": [
    "Passons au script 'fonction_python.ipynb' !"
   ]
  },
  {
   "cell_type": "code",
   "execution_count": null,
   "id": "c6b84363-90c6-468a-86c5-4e2edbcdc001",
   "metadata": {},
   "outputs": [],
   "source": [
    "import numpy as np\n",
    "import regex as re\n",
    "from collections import Counter"
   ]
  },
  {
   "cell_type": "code",
   "execution_count": null,
   "id": "5ae5b13d-bf72-4227-bd38-d5ca61629b3f",
   "metadata": {},
   "outputs": [],
   "source": [
    "# apply : apply a function along one of the axis of the DataFrame\n",
    "# donc ici on applique une fonction lambda sur toutes les lignes du texte\n",
    "text.apply(lambda x:str(x.lower()).split())"
   ]
  },
  {
   "cell_type": "code",
   "execution_count": null,
   "id": "e16e2a30",
   "metadata": {},
   "outputs": [],
   "source": [
    "\"\"\"\n",
    "En Python, le mot-clé lambda est utilisé pour définir des fonctions anonymes, également appelées fonctions lambda.\n",
    "\n",
    "Les fonctions lambda sont des fonctions qui ne sont pas définies avec un nom, mais qui peuvent être utilisées dans des expressions ou des fonctions.\n",
    "\n",
    "Elles sont souvent utilisées dans des situations où une fonction simple est nécessaire pour une tâche spécifique, comme trier une liste ou filtrer des éléments.\n",
    "\"\"\""
   ]
  },
  {
   "cell_type": "code",
   "execution_count": null,
   "id": "0582252d-db04-49dd-8daa-b3dae735735a",
   "metadata": {
    "tags": []
   },
   "outputs": [],
   "source": [
    "words = text.apply(lambda x:str(x.lower()).split())\n",
    "top=Counter([item for sublist in words for item in sublist])\n",
    "top"
   ]
  },
  {
   "cell_type": "code",
   "execution_count": null,
   "id": "43b4d245-dd30-4ffe-b702-26f9bfd71d43",
   "metadata": {},
   "outputs": [],
   "source": [
    "top.most_common(21)"
   ]
  },
  {
   "cell_type": "code",
   "execution_count": null,
   "id": "7832be5d-efdb-499c-a126-388b3adabc60",
   "metadata": {},
   "outputs": [],
   "source": []
  }
 ],
 "metadata": {
  "kernelspec": {
   "display_name": "Python 3",
   "language": "python",
   "name": "python3"
  },
  "language_info": {
   "codemirror_mode": {
    "name": "ipython",
    "version": 3
   },
   "file_extension": ".py",
   "mimetype": "text/x-python",
   "name": "python",
   "nbconvert_exporter": "python",
   "pygments_lexer": "ipython3",
   "version": "3.10.9"
  }
 },
 "nbformat": 4,
 "nbformat_minor": 5
}
