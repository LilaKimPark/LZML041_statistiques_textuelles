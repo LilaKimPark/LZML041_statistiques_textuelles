{
 "cells": [
  {
   "cell_type": "code",
   "execution_count": 1,
   "id": "f4221086-529f-452f-9909-2bc7a3386a6f",
   "metadata": {
    "tags": []
   },
   "outputs": [
    {
     "name": "stdout",
     "output_type": "stream",
     "text": [
      "C:\\Users\\lilak\\anaconda3\\python.exe\n",
      "3.12.7 | packaged by Anaconda, Inc. | (main, Oct  4 2024, 13:17:27) [MSC v.1929 64 bit (AMD64)]\n",
      "sys.version_info(major=3, minor=12, micro=7, releaselevel='final', serial=0)\n"
     ]
    }
   ],
   "source": [
    "#0... Let's check your python version !\n",
    "import sys\n",
    "print(sys.executable)\n",
    "print(sys.version)\n",
    "print(sys.version_info)"
   ]
  },
  {
   "cell_type": "code",
   "execution_count": 3,
   "id": "f360481e-9131-47eb-9ed9-35c951eeb79d",
   "metadata": {},
   "outputs": [
    {
     "name": "stdout",
     "output_type": "stream",
     "text": [
      "Requirement already satisfied: numpy in c:\\users\\lilak\\anaconda3\\lib\\site-packages (1.26.4)\n"
     ]
    }
   ],
   "source": [
    "# NumPy is the fundamental package for scientific computing with Python.\n",
    "#1... Install NumPy using pip package in the current Jupyter kernel\n",
    "import sys\n",
    "!{sys.executable} -m pip install numpy"
   ]
  },
  {
   "cell_type": "code",
   "execution_count": null,
   "id": "54757303-efb3-4bd9-b962-4ae74fdbb9ff",
   "metadata": {},
   "outputs": [],
   "source": [
    "# 2... Install nltk by using pip command – The first step is to install nltk by using the pip command. \n",
    "#!{sys.executable} -m pip install nltk"
   ]
  },
  {
   "cell_type": "code",
   "execution_count": 7,
   "id": "0bedf385-468e-4cb5-bbf5-50d2c3c8b91d",
   "metadata": {},
   "outputs": [
    {
     "name": "stdout",
     "output_type": "stream",
     "text": [
      "showing info https://raw.githubusercontent.com/nltk/nltk_data/gh-pages/index.xml\n"
     ]
    },
    {
     "data": {
      "text/plain": [
       "True"
      ]
     },
     "execution_count": 7,
     "metadata": {},
     "output_type": "execute_result"
    }
   ],
   "source": [
    "#3... import the library NLKT\n",
    "# A new window should open, showing the NLTK Downloader. Click on the File menu and select Change Download Directory. \n",
    "# For central installation, set this to C:\\nltk_data (Windows), /usr/local/share/nltk_data (Mac), or /usr/share/nltk_data (Unix). \n",
    "# Next, download all.\n",
    "\n",
    "import nltk\n",
    "nltk.download()"
   ]
  },
  {
   "cell_type": "code",
   "execution_count": 9,
   "id": "8bc33f8c-5eb5-4708-a6e5-55763e76ed5f",
   "metadata": {},
   "outputs": [],
   "source": [
    "# Sample usage for wordnet\n",
    "# WordNet is just a NLTK corpus reader, and can be imported like this:\n",
    "from nltk.corpus import wordnet as wn"
   ]
  },
  {
   "cell_type": "code",
   "execution_count": 11,
   "id": "b4c90976-e5f1-4fd2-83c6-d4c8722c5fd1",
   "metadata": {},
   "outputs": [
    {
     "data": {
      "text/plain": [
       "['eng']"
      ]
     },
     "execution_count": 11,
     "metadata": {},
     "output_type": "execute_result"
    }
   ],
   "source": [
    "# vérifier les langues disponibles dans wordnet\n",
    "wn.langs()"
   ]
  },
  {
   "cell_type": "code",
   "execution_count": 13,
   "id": "074629c3-93f9-484b-aa74-59561ef6516d",
   "metadata": {},
   "outputs": [
    {
     "data": {
      "text/plain": [
       "[Synset('book.n.01'),\n",
       " Synset('book.n.02'),\n",
       " Synset('record.n.05'),\n",
       " Synset('script.n.01'),\n",
       " Synset('ledger.n.01'),\n",
       " Synset('book.n.06'),\n",
       " Synset('book.n.07'),\n",
       " Synset('koran.n.01'),\n",
       " Synset('bible.n.01'),\n",
       " Synset('book.n.10'),\n",
       " Synset('book.n.11'),\n",
       " Synset('book.v.01'),\n",
       " Synset('reserve.v.04'),\n",
       " Synset('book.v.03'),\n",
       " Synset('book.v.04')]"
      ]
     },
     "execution_count": 13,
     "metadata": {},
     "output_type": "execute_result"
    }
   ],
   "source": [
    "# trouver les synsets en anglais pour le mot \"book\"\n",
    "# .n : nom\n",
    "# .v : verbe\n",
    "wn.synsets('book')"
   ]
  },
  {
   "cell_type": "code",
   "execution_count": 15,
   "id": "11249c8c-407b-48bb-b36b-4418d95d6e5a",
   "metadata": {},
   "outputs": [
    {
     "data": {
      "text/plain": [
       "[Synset('book.v.01'),\n",
       " Synset('book.v.03'),\n",
       " Synset('reserve.v.04'),\n",
       " Synset('book.v.04'),\n",
       " Synset('book.n.02'),\n",
       " Synset('book.n.11'),\n",
       " Synset('book.n.01'),\n",
       " Synset('record.n.05'),\n",
       " Synset('script.n.01'),\n",
       " Synset('book.n.06'),\n",
       " Synset('pound.n.11'),\n",
       " Synset('ledger.n.01'),\n",
       " Synset('british_pound.n.01'),\n",
       " Synset('cypriot_pound.n.01'),\n",
       " Synset('egyptian_pound.n.01'),\n",
       " Synset('irish_pound.n.01'),\n",
       " Synset('lebanese_pound.n.01'),\n",
       " Synset('sudanese_pound.n.01'),\n",
       " Synset('syrian_pound.n.01')]"
      ]
     },
     "execution_count": 15,
     "metadata": {},
     "output_type": "execute_result"
    }
   ],
   "source": [
    "# trouver les synsets en français pour le mot \"livre\"\n",
    "# charger la langue de manière différée (uniquement l'anglais par défaut) \n",
    "wn.synsets('livre', lang='fra') "
   ]
  },
  {
   "cell_type": "code",
   "execution_count": 19,
   "id": "bded4fd1-2971-433a-84a6-7fb8c2ee7738",
   "metadata": {},
   "outputs": [
    {
     "data": {
      "text/plain": [
       "[Synset('hope.v.03'), Synset('hope.v.01')]"
      ]
     },
     "execution_count": 19,
     "metadata": {},
     "output_type": "execute_result"
    }
   ],
   "source": [
    "# trouver les synsets pour le mot \"espoir\" en français (verbe)\n",
    "# contraindre la partie du discours du mot\n",
    "wn.synsets('espoir', pos=wn.VERB, lang='fra')"
   ]
  },
  {
   "cell_type": "code",
   "execution_count": 25,
   "id": "c06c223a-d876-4a3d-bddd-31bd580ab329",
   "metadata": {},
   "outputs": [
    {
     "data": {
      "text/plain": [
       "'a collection of playing cards satisfying the rules of a card game'"
      ]
     },
     "execution_count": 25,
     "metadata": {},
     "output_type": "execute_result"
    }
   ],
   "source": [
    "liste_synset = wn.synsets('book') # liste des synsets\n",
    "liste_synset[5].definition() # accéder au 6e élément de la liste == Synset('book.n.06')\n",
    "                             # .definition() retourne la définition textuelle du synset"
   ]
  },
  {
   "cell_type": "code",
   "execution_count": 27,
   "id": "6d1c47cb-fb9d-4044-b141-1281703009b6",
   "metadata": {},
   "outputs": [
    {
     "data": {
      "text/plain": [
       "'a written work or composition that has been published (printed on pages bound together)'"
      ]
     },
     "execution_count": 27,
     "metadata": {},
     "output_type": "execute_result"
    }
   ],
   "source": [
    "liste_synset[0].definition()"
   ]
  },
  {
   "cell_type": "code",
   "execution_count": 29,
   "id": "b787f55c-676f-409c-98e2-e629ff506fb8",
   "metadata": {},
   "outputs": [
    {
     "name": "stdout",
     "output_type": "stream",
     "text": [
      "\tLemma: book.n.01\n",
      "\tDefinition: a written work or composition that has been published (printed on pages bound together)\n",
      "\tExample: ['I am reading a good book on economics']\n",
      "\tLemma: book.n.02\n",
      "\tDefinition: physical objects consisting of a number of pages bound together\n",
      "\tExample: ['he used a large book as a doorstop']\n",
      "\tLemma: record.n.05\n",
      "\tDefinition: a compilation of the known facts regarding something or someone\n",
      "\tExample: [\"Al Smith used to say, `Let's look at the record'\", 'his name is in all the record books']\n",
      "\tLemma: script.n.01\n",
      "\tDefinition: a written version of a play or other dramatic composition; used in preparing for a performance\n",
      "\tExample: []\n",
      "\tLemma: ledger.n.01\n",
      "\tDefinition: a record in which commercial accounts are recorded\n",
      "\tExample: ['they got a subpoena to examine our books']\n",
      "\tLemma: book.n.06\n",
      "\tDefinition: a collection of playing cards satisfying the rules of a card game\n",
      "\tExample: []\n",
      "\tLemma: book.n.07\n",
      "\tDefinition: a collection of rules or prescribed standards on the basis of which decisions are made\n",
      "\tExample: ['they run things by the book around here']\n",
      "\tLemma: koran.n.01\n",
      "\tDefinition: the sacred writings of Islam revealed by God to the prophet Muhammad during his life at Mecca and Medina\n",
      "\tExample: []\n",
      "\tLemma: bible.n.01\n",
      "\tDefinition: the sacred writings of the Christian religions\n",
      "\tExample: ['he went to carry the Word to the heathen']\n",
      "\tLemma: book.n.10\n",
      "\tDefinition: a major division of a long written composition\n",
      "\tExample: ['the book of Isaiah']\n",
      "\tLemma: book.n.11\n",
      "\tDefinition: a number of sheets (ticket or stamps etc.) bound together on one edge\n",
      "\tExample: ['he bought a book of stamps']\n",
      "\tLemma: book.v.01\n",
      "\tDefinition: engage for a performance\n",
      "\tExample: ['Her agent had booked her for several concerts in Tokyo']\n",
      "\tLemma: reserve.v.04\n",
      "\tDefinition: arrange for and reserve (something for someone else) in advance\n",
      "\tExample: ['reserve me a seat on a flight', 'The agent booked tickets to the show for the whole family', \"please hold a table at Maxim's\"]\n",
      "\tLemma: book.v.03\n",
      "\tDefinition: record a charge in a police register\n",
      "\tExample: ['The policeman booked her when she tried to solicit a man']\n",
      "\tLemma: book.v.04\n",
      "\tDefinition: register in a hotel booker\n",
      "\tExample: []\n"
     ]
    }
   ],
   "source": [
    "# ce code parcourt tous les synsets (ensembles de synonymes) du mot \"book\"\n",
    "# et affiche le nom, la définition et l'exemple du synset\n",
    "for syn in liste_synset:\n",
    "    print(\"\\tLemma: {}\".format(syn.name()))\n",
    "    print(\"\\tDefinition: {}\".format(syn.definition()))\n",
    "    print(\"\\tExample: {}\".format(syn.examples()))\n",
    " "
   ]
  },
  {
   "cell_type": "code",
   "execution_count": 31,
   "id": "fc7de015",
   "metadata": {},
   "outputs": [
    {
     "name": "stdout",
     "output_type": "stream",
     "text": [
      "\tSynonyms: ['book.n.01', 'book.n.02', 'record.n.05', 'script.n.01', 'ledger.n.01', 'book.n.06', 'book.n.07', 'koran.n.01', 'bible.n.01', 'book.n.10', 'book.n.11', 'book.v.01', 'reserve.v.04', 'book.v.03', 'book.v.04']\n"
     ]
    }
   ],
   "source": [
    "print(\"\\tSynonyms:\", [lemma.name() for lemma in liste_synset])"
   ]
  },
  {
   "cell_type": "code",
   "execution_count": 33,
   "id": "ad6f093c-f374-4cc2-80de-a828d43a732c",
   "metadata": {},
   "outputs": [
    {
     "name": "stdout",
     "output_type": "stream",
     "text": [
      "The test word is :  lemme\n",
      "Word and Type : lemma.n.03\n",
      "Synonym is: lemma\n",
      "The meaning of the word : the heading that indicates the subject of an annotation or a literary composition or a dictionary entry\n",
      "Example : []\n"
     ]
    }
   ],
   "source": [
    "word=\"lemme\"\n",
    "synset = wn.synsets(word, lang='fra')\n",
    "print('The test word is : ', word)\n",
    "print('Word and Type : ' + synset[0].name())\n",
    "print('Synonym is: ' + synset[0].lemmas()[0].name())\n",
    "print('The meaning of the word : ' + synset[0].definition())\n",
    "print('Example : ' + str(synset[0].examples()))"
   ]
  },
  {
   "cell_type": "code",
   "execution_count": null,
   "id": "c99b3b2a-212b-4e8e-afde-cb18bb0088dc",
   "metadata": {},
   "outputs": [],
   "source": [
    "word=\"token\"\n",
    "synset = wn.synsets(word)\n",
    "print('The test word is : ', word)\n",
    "print('Word and Type : ' + synset[0].name())\n",
    "print('Synonym is: ' + synset[0].lemmas()[0].name())\n",
    "print('The meaning of the word : ' + synset[0].definition())\n",
    "print('Example : ' + str(synset[0].examples()))"
   ]
  },
  {
   "cell_type": "code",
   "execution_count": 35,
   "id": "bdfe6847-aa51-427c-9c38-7ec67fbc0592",
   "metadata": {},
   "outputs": [
    {
     "name": "stdout",
     "output_type": "stream",
     "text": [
      "Synonyms: ['root', 'root_word', 'base', 'stem', 'theme', 'radical', 'stalk', 'stem', 'shank', 'stem', 'stem', 'bow', 'fore', 'prow', 'stem', 'stem_turn', 'stem', 'stem', 'stem', 'stem', 'stanch', 'staunch', 'halt', 'stem']\n",
      "Antonyms: []\n"
     ]
    }
   ],
   "source": [
    "# initialisation de deux listes qui stockeront chacune les synonymes et les antonymes\n",
    "syn, ant = list(), list()\n",
    "\n",
    "for synset in wn.synsets(\"stem\"): # pour chaque synset de la liste de tous les synsets associés au mot \"stem\"\n",
    "    for lemma in synset.lemmas(): # pour chaque lemme de tous les lemmes de chaque synset\n",
    "        syn.append(lemma.name())  # ajouter le nom de la lemme dans la liste syn\n",
    "        if lemma.antonyms():    # si les antonymes de la lemme sont disponibles \n",
    "            ant.append(lemma.antonyms()[0].name())\n",
    "            # ajouter le nom de l'antonyme dans la liste ant\n",
    "\n",
    "# afficher les listes de synonymes et antonymes\n",
    "print('Synonyms: ' + str(syn)) \n",
    "print('Antonyms: ' + str(ant))"
   ]
  },
  {
   "cell_type": "code",
   "execution_count": 37,
   "id": "b3cd9df5",
   "metadata": {},
   "outputs": [
    {
     "name": "stdout",
     "output_type": "stream",
     "text": [
      "Synonyms: {'shank', 'prow', 'root_word', 'base', 'stanch', 'stalk', 'radical', 'fore', 'staunch', 'theme', 'root', 'halt', 'stem_turn', 'bow', 'stem'}\n",
      "Antonyms: set()\n"
     ]
    }
   ],
   "source": [
    "# initialisation de deux listes qui stockeront chacune les synonymes et les antonymes\n",
    "syn, ant = list(), list()\n",
    "\n",
    "for synset in wn.synsets(\"stem\"): # pour chaque synset de la liste de tous les synsets associés au mot \"stem\"\n",
    "    for lemma in synset.lemmas(): # pour chaque lemme de tous les lemmes de chaque synset\n",
    "        syn.append(lemma.name())  # ajouter le nom de la lemme dans la liste syn\n",
    "        if lemma.antonyms():    # si les antonymes de la lemme sont disponibles \n",
    "            for ant_lemme in lemma.antonyms():\n",
    "                ant.append(ant_lemme.name())\n",
    "            # ajouter le nom de tous les antonymes dans la liste ant\n",
    "\n",
    "# afficher les listes de synonymes et antonymes\n",
    "# set() pour supprimer les doublons\n",
    "print('Synonyms: ' + str(set(syn))) \n",
    "print('Antonyms: ' + str(set(ant)))"
   ]
  },
  {
   "cell_type": "code",
   "execution_count": 39,
   "id": "ff80189a-ec90-4126-bdee-1bd93030d29c",
   "metadata": {},
   "outputs": [
    {
     "name": "stdout",
     "output_type": "stream",
     "text": [
      "Requirement already satisfied: networkx[default] in c:\\users\\lilak\\anaconda3\\lib\\site-packages (3.3)\n",
      "Requirement already satisfied: numpy>=1.23 in c:\\users\\lilak\\anaconda3\\lib\\site-packages (from networkx[default]) (1.26.4)\n",
      "Requirement already satisfied: scipy!=1.11.0,!=1.11.1,>=1.9 in c:\\users\\lilak\\anaconda3\\lib\\site-packages (from networkx[default]) (1.13.1)\n",
      "Requirement already satisfied: matplotlib>=3.6 in c:\\users\\lilak\\anaconda3\\lib\\site-packages (from networkx[default]) (3.9.2)\n",
      "Requirement already satisfied: pandas>=1.4 in c:\\users\\lilak\\anaconda3\\lib\\site-packages (from networkx[default]) (2.2.2)\n",
      "Requirement already satisfied: contourpy>=1.0.1 in c:\\users\\lilak\\anaconda3\\lib\\site-packages (from matplotlib>=3.6->networkx[default]) (1.2.0)\n",
      "Requirement already satisfied: cycler>=0.10 in c:\\users\\lilak\\anaconda3\\lib\\site-packages (from matplotlib>=3.6->networkx[default]) (0.11.0)\n",
      "Requirement already satisfied: fonttools>=4.22.0 in c:\\users\\lilak\\anaconda3\\lib\\site-packages (from matplotlib>=3.6->networkx[default]) (4.51.0)\n",
      "Requirement already satisfied: kiwisolver>=1.3.1 in c:\\users\\lilak\\anaconda3\\lib\\site-packages (from matplotlib>=3.6->networkx[default]) (1.4.4)\n",
      "Requirement already satisfied: packaging>=20.0 in c:\\users\\lilak\\anaconda3\\lib\\site-packages (from matplotlib>=3.6->networkx[default]) (24.1)\n",
      "Requirement already satisfied: pillow>=8 in c:\\users\\lilak\\anaconda3\\lib\\site-packages (from matplotlib>=3.6->networkx[default]) (10.4.0)\n",
      "Requirement already satisfied: pyparsing>=2.3.1 in c:\\users\\lilak\\anaconda3\\lib\\site-packages (from matplotlib>=3.6->networkx[default]) (3.1.2)\n",
      "Requirement already satisfied: python-dateutil>=2.7 in c:\\users\\lilak\\anaconda3\\lib\\site-packages (from matplotlib>=3.6->networkx[default]) (2.9.0.post0)\n",
      "Requirement already satisfied: pytz>=2020.1 in c:\\users\\lilak\\anaconda3\\lib\\site-packages (from pandas>=1.4->networkx[default]) (2024.1)\n",
      "Requirement already satisfied: tzdata>=2022.7 in c:\\users\\lilak\\anaconda3\\lib\\site-packages (from pandas>=1.4->networkx[default]) (2023.3)\n",
      "Requirement already satisfied: six>=1.5 in c:\\users\\lilak\\anaconda3\\lib\\site-packages (from python-dateutil>=2.7->matplotlib>=3.6->networkx[default]) (1.16.0)\n",
      "Requirement already satisfied: pyvis in c:\\users\\lilak\\anaconda3\\lib\\site-packages (0.3.2)\n",
      "Requirement already satisfied: ipython>=5.3.0 in c:\\users\\lilak\\anaconda3\\lib\\site-packages (from pyvis) (8.27.0)\n",
      "Requirement already satisfied: jinja2>=2.9.6 in c:\\users\\lilak\\anaconda3\\lib\\site-packages (from pyvis) (3.1.4)\n",
      "Requirement already satisfied: jsonpickle>=1.4.1 in c:\\users\\lilak\\anaconda3\\lib\\site-packages (from pyvis) (4.0.1)\n",
      "Requirement already satisfied: networkx>=1.11 in c:\\users\\lilak\\anaconda3\\lib\\site-packages (from pyvis) (3.3)\n",
      "Requirement already satisfied: decorator in c:\\users\\lilak\\anaconda3\\lib\\site-packages (from ipython>=5.3.0->pyvis) (5.1.1)\n",
      "Requirement already satisfied: jedi>=0.16 in c:\\users\\lilak\\anaconda3\\lib\\site-packages (from ipython>=5.3.0->pyvis) (0.19.1)\n",
      "Requirement already satisfied: matplotlib-inline in c:\\users\\lilak\\anaconda3\\lib\\site-packages (from ipython>=5.3.0->pyvis) (0.1.6)\n",
      "Requirement already satisfied: prompt-toolkit<3.1.0,>=3.0.41 in c:\\users\\lilak\\anaconda3\\lib\\site-packages (from ipython>=5.3.0->pyvis) (3.0.43)\n",
      "Requirement already satisfied: pygments>=2.4.0 in c:\\users\\lilak\\anaconda3\\lib\\site-packages (from ipython>=5.3.0->pyvis) (2.15.1)\n",
      "Requirement already satisfied: stack-data in c:\\users\\lilak\\anaconda3\\lib\\site-packages (from ipython>=5.3.0->pyvis) (0.2.0)\n",
      "Requirement already satisfied: traitlets>=5.13.0 in c:\\users\\lilak\\anaconda3\\lib\\site-packages (from ipython>=5.3.0->pyvis) (5.14.3)\n",
      "Requirement already satisfied: colorama in c:\\users\\lilak\\anaconda3\\lib\\site-packages (from ipython>=5.3.0->pyvis) (0.4.6)\n",
      "Requirement already satisfied: MarkupSafe>=2.0 in c:\\users\\lilak\\anaconda3\\lib\\site-packages (from jinja2>=2.9.6->pyvis) (2.1.3)\n",
      "Requirement already satisfied: parso<0.9.0,>=0.8.3 in c:\\users\\lilak\\anaconda3\\lib\\site-packages (from jedi>=0.16->ipython>=5.3.0->pyvis) (0.8.3)\n",
      "Requirement already satisfied: wcwidth in c:\\users\\lilak\\anaconda3\\lib\\site-packages (from prompt-toolkit<3.1.0,>=3.0.41->ipython>=5.3.0->pyvis) (0.2.5)\n",
      "Requirement already satisfied: executing in c:\\users\\lilak\\anaconda3\\lib\\site-packages (from stack-data->ipython>=5.3.0->pyvis) (0.8.3)\n",
      "Requirement already satisfied: asttokens in c:\\users\\lilak\\anaconda3\\lib\\site-packages (from stack-data->ipython>=5.3.0->pyvis) (2.0.5)\n",
      "Requirement already satisfied: pure-eval in c:\\users\\lilak\\anaconda3\\lib\\site-packages (from stack-data->ipython>=5.3.0->pyvis) (0.2.2)\n",
      "Requirement already satisfied: six in c:\\users\\lilak\\anaconda3\\lib\\site-packages (from asttokens->stack-data->ipython>=5.3.0->pyvis) (1.16.0)\n",
      "Requirement already satisfied: textblob in c:\\users\\lilak\\anaconda3\\lib\\site-packages (0.19.0)\n",
      "Requirement already satisfied: nltk>=3.9 in c:\\users\\lilak\\anaconda3\\lib\\site-packages (from textblob) (3.9.1)\n",
      "Requirement already satisfied: click in c:\\users\\lilak\\anaconda3\\lib\\site-packages (from nltk>=3.9->textblob) (8.1.7)\n",
      "Requirement already satisfied: joblib in c:\\users\\lilak\\anaconda3\\lib\\site-packages (from nltk>=3.9->textblob) (1.4.2)\n",
      "Requirement already satisfied: regex>=2021.8.3 in c:\\users\\lilak\\anaconda3\\lib\\site-packages (from nltk>=3.9->textblob) (2024.9.11)\n",
      "Requirement already satisfied: tqdm in c:\\users\\lilak\\anaconda3\\lib\\site-packages (from nltk>=3.9->textblob) (4.66.5)\n",
      "Requirement already satisfied: colorama in c:\\users\\lilak\\anaconda3\\lib\\site-packages (from click->nltk>=3.9->textblob) (0.4.6)\n"
     ]
    }
   ],
   "source": [
    "#installer visualisation libraries\n",
    "!{sys.executable} -m pip install networkx[default]\n",
    "# une bibliothèque pour manipuler et visualiser des graphiques et réseaux\n",
    "# on va l'utiliser pour modéliser des relations entre mots dans wordnet\n",
    "!{sys.executable} -m pip install pyvis\n",
    "# pour visualiser des graphes interactifs\n",
    "# complémentaire avec networkx pour afficher des réseaux\n",
    "!{sys.executable} -m pip install textblob\n",
    "# une bibliothèque pour le TAL\n",
    "# fournit des outils pour l'analyse grammaticale, la reconnaissance des sentiments, la correction orthographique, etc\n",
    "# peut être utilisé avec wordnet pour trouver les synonymes et définitions des mots"
   ]
  },
  {
   "cell_type": "code",
   "execution_count": 41,
   "id": "0978ab11-9753-4940-8bd4-e7c22bf066ad",
   "metadata": {},
   "outputs": [],
   "source": [
    "from nltk.corpus import wordnet as wn\n",
    "import networkx as nx\n"
   ]
  },
  {
   "cell_type": "code",
   "execution_count": 43,
   "id": "d809240f-539c-44d9-b528-5f916a6ee11c",
   "metadata": {},
   "outputs": [
    {
     "name": "stdout",
     "output_type": "stream",
     "text": [
      "0.8571428571428571\n"
     ]
    }
   ],
   "source": [
    "# pour calculer la similarité entre les mots \"chiens\" et \"chats\" en anglais\n",
    "\n",
    "w1 = wn.synset('dog.n.01') # synset avec le premier sens du chien\n",
    "w2 = wn.synset('cat.n.01') # synset avec le premier sens du chat\n",
    "print(w1.wup_similarity(w2)) \n",
    "# la proximité sémantique entre deux mots en fonction de leur plus proche ancêtre commun\n",
    "# résultat entre 0 et 1 : 1 identique, 0 totalement différent\n",
    "# très similaire car tous deux sont des animaux"
   ]
  },
  {
   "cell_type": "code",
   "execution_count": null,
   "id": "98055375",
   "metadata": {},
   "outputs": [],
   "source": [
    "#     Object\n",
    "#       |\n",
    "#     Vehicle (ancêtre)\n",
    "#       |\n",
    "#   ---------\n",
    "#   |       |\n",
    "#  Boat  Automobile\n",
    "#           |\n",
    "#          Car"
   ]
  },
  {
   "cell_type": "code",
   "execution_count": 45,
   "id": "14ee6e25-27aa-4694-8ff5-fc915e153e2b",
   "metadata": {},
   "outputs": [
    {
     "name": "stdout",
     "output_type": "stream",
     "text": [
      "0.6956521739130435\n"
     ]
    }
   ],
   "source": [
    "w1 = wn.synset('boat.n.01') # synset avec le premier sens du chien\n",
    "w2 = wn.synset('car.n.01') # synset avec le premier sens du chat\n",
    "print(w1.wup_similarity(w2)) "
   ]
  },
  {
   "cell_type": "code",
   "execution_count": 49,
   "id": "573aa04d-2a0d-4b00-acf5-334fb01c3a6e",
   "metadata": {},
   "outputs": [
    {
     "name": "stdout",
     "output_type": "stream",
     "text": [
      "[Synset('dog.n.01'), Synset('frump.n.01'), Synset('dog.n.03'), Synset('cad.n.01'), Synset('frank.n.02'), Synset('pawl.n.01'), Synset('andiron.n.01'), Synset('chase.v.01')]\n",
      "['a member of the genus Canis (probably descended from the common wolf) that has been domesticated by man since prehistoric times; occurs in many breeds', 'a dull unattractive unpleasant girl or woman', 'informal term for a man', 'someone who is morally reprehensible', 'a smooth-textured sausage of minced beef or pork usually smoked; often served on a bread roll', 'a hinged catch that fits into a notch of a ratchet to move a wheel forward or prevent it from moving backward', 'metal supports for logs in a fireplace', 'go after with the intent to catch']\n"
     ]
    }
   ],
   "source": [
    "\n",
    "from textblob import Word # textblop facilite l'accès plus facile aux fonctionnalités de wordnet\n",
    "word = Word(\"dog\") # objet pour accéder à wordnet\n",
    "print(word.synsets[:10]) # liste de synsets du mot \"word\"\n",
    "print(word.definitions[:10]) # liste des définitions de chaque synset associé au mot \"word\"\n",
    "\n",
    "# [:10] pour limiter l'affichage aux 10 premier résultats"
   ]
  },
  {
   "cell_type": "code",
   "execution_count": 53,
   "id": "0dc56e6e-1b70-47b1-b70b-1651b0737cf5",
   "metadata": {},
   "outputs": [
    {
     "name": "stdout",
     "output_type": "stream",
     "text": [
      "[('dog.n.01', {}), ('canine.n.02', {}), ('domestic_animal.n.01', {}), ('pug.n.01', {}), ('dalmatian.n.02', {}), ('lapdog.n.01', {}), ('pooch.n.01', {}), ('spitz.n.01', {}), ('basenji.n.01', {}), ('griffon.n.02', {}), ('great_pyrenees.n.01', {}), ('poodle.n.01', {}), ('toy_dog.n.01', {}), ('mexican_hairless.n.01', {}), ('puppy.n.01', {}), ('working_dog.n.01', {}), ('hunting_dog.n.01', {}), ('newfoundland.n.01', {}), ('corgi.n.01', {}), ('leonberg.n.01', {}), ('cur.n.01', {})]\n"
     ]
    },
    {
     "data": {
      "image/png": "[encoded data removed]",
      "text/plain": [
       "<Figure size 2100x500 with 1 Axes>"
      ]
     },
     "metadata": {},
     "output_type": "display_data"
    }
   ],
   "source": [
    "import networkx as nx # créer et manipuler des graphes\n",
    "import matplotlib.pyplot as plt # afficher le graphe\n",
    "\n",
    "G = nx.Graph() # créer un graphe vide\n",
    "\n",
    "w = word.synsets[0] # premier synset \n",
    "\n",
    "G.add_node(w.name()) # G.add_node(\"dog.n.01\")\n",
    "\n",
    "for h in w.hypernyms(): # pour chaque hyperonyme de la liste\n",
    "    G.add_node(h.name()) # ajouter l'hyperonyme comme noeud\n",
    "                         # canine.n.02\n",
    "    G.add_edge(w.name(), h.name()) # relier le mot à son hyperonyme\n",
    "\n",
    "#  resultat final   ==>    dog.n.01 --- canine.n.02\n",
    "\n",
    "for h in w.hyponyms(): # pour chaque hyponyme\n",
    "    G.add_node(h.name()) # ajouter l'hyponyme comme noeud\n",
    "    G.add_edge(w.name(), h.name()) # relier le mot à son hyponyme\n",
    "\n",
    "#  resultat final   ==>    dog.n.01 --- poodle.n.01\n",
    "\n",
    "print(G.nodes(data=True)) # afficher tous les noeuds et leurs attributs\n",
    "plt.show()                 # afficher la figure\n",
    "plt.rcParams['figure.figsize'] = [21, 5] # définir la taille de la figure (21x5 pouces)\n",
    "nx.draw(G, width=1, with_labels=True, node_color=\"#007ed9\") \n",
    "# déssiner le graphe (width pour épaisseurs des arêtes)\n",
    "plt.savefig(\"noeuds_pour_chien.png\") # sauvegarder la figure sous \"path.png\""
   ]
  },
  {
   "cell_type": "code",
   "execution_count": null,
   "id": "0fefcc44-c0b7-4951-9f2b-850323f9895c",
   "metadata": {},
   "outputs": [],
   "source": [
    "# to see all other layouts: https://networkx.org/documentation/stable/reference/generated/networkx.drawing.layout.random_layout.html\n",
    "nx.draw(G, pos=nx.spiral_layout(G)) # afficher le graphe avec un layout en spirale\n",
    "plt.show() "
   ]
  },
  {
   "cell_type": "code",
   "execution_count": 55,
   "id": "ea08bbdf-9c0e-4d40-8073-89629df3eca4",
   "metadata": {},
   "outputs": [
    {
     "name": "stderr",
     "output_type": "stream",
     "text": [
      "[nltk_data] Downloading package gutenberg to\n",
      "[nltk_data]     C:\\Users\\lilak\\AppData\\Roaming\\nltk_data...\n",
      "[nltk_data]   Package gutenberg is already up-to-date!\n"
     ]
    },
    {
     "data": {
      "text/plain": [
       "['austen-emma.txt',\n",
       " 'austen-persuasion.txt',\n",
       " 'austen-sense.txt',\n",
       " 'bible-kjv.txt',\n",
       " 'blake-poems.txt',\n",
       " 'bryant-stories.txt',\n",
       " 'burgess-busterbrown.txt',\n",
       " 'carroll-alice.txt',\n",
       " 'chesterton-ball.txt',\n",
       " 'chesterton-brown.txt',\n",
       " 'chesterton-thursday.txt',\n",
       " 'edgeworth-parents.txt',\n",
       " 'melville-moby_dick.txt',\n",
       " 'milton-paradise.txt',\n",
       " 'shakespeare-caesar.txt',\n",
       " 'shakespeare-hamlet.txt',\n",
       " 'shakespeare-macbeth.txt',\n",
       " 'whitman-leaves.txt']"
      ]
     },
     "execution_count": 55,
     "metadata": {},
     "output_type": "execute_result"
    }
   ],
   "source": [
    "# Lets explore the Gutenberg in NLKT !\n",
    "nltk.download('gutenberg')\n",
    "nltk.corpus.gutenberg.fileids() # lister tous les fichiers du corpus gutenberg"
   ]
  },
  {
   "cell_type": "code",
   "execution_count": 57,
   "id": "0227b27c-9535-4c42-a2a3-be5f2478e099",
   "metadata": {},
   "outputs": [
    {
     "data": {
      "text/plain": [
       "18"
      ]
     },
     "execution_count": 57,
     "metadata": {},
     "output_type": "execute_result"
    }
   ],
   "source": [
    "len(nltk.corpus.gutenberg.fileids())"
   ]
  },
  {
   "cell_type": "code",
   "execution_count": 63,
   "id": "081afa47-9af5-471e-a680-6067755d8f4a",
   "metadata": {},
   "outputs": [
    {
     "data": {
      "text/plain": [
       "260819"
      ]
     },
     "execution_count": 63,
     "metadata": {},
     "output_type": "execute_result"
    }
   ],
   "source": [
    "moby_dick = nltk.corpus.gutenberg.words('melville-moby_dick.txt') # extrait de tous les mots du texte sous forme de liste de tokens\n",
    "len(moby_dick)"
   ]
  },
  {
   "cell_type": "code",
   "execution_count": 65,
   "id": "47ff8ad0-881c-4b68-a714-6bd2752c0a60",
   "metadata": {},
   "outputs": [
    {
     "name": "stdout",
     "output_type": "stream",
     "text": [
      "# of words in  austen-emma.txt is:  192427\n",
      "# of words in  austen-persuasion.txt is:  98171\n",
      "# of words in  austen-sense.txt is:  141576\n",
      "# of words in  bible-kjv.txt is:  1010654\n",
      "# of words in  blake-poems.txt is:  8354\n",
      "# of words in  bryant-stories.txt is:  55563\n",
      "# of words in  burgess-busterbrown.txt is:  18963\n",
      "# of words in  carroll-alice.txt is:  34110\n",
      "# of words in  chesterton-ball.txt is:  96996\n",
      "# of words in  chesterton-brown.txt is:  86063\n",
      "# of words in  chesterton-thursday.txt is:  69213\n",
      "# of words in  edgeworth-parents.txt is:  210663\n",
      "# of words in  melville-moby_dick.txt is:  260819\n",
      "# of words in  milton-paradise.txt is:  96825\n",
      "# of words in  shakespeare-caesar.txt is:  25833\n",
      "# of words in  shakespeare-hamlet.txt is:  37360\n",
      "# of words in  shakespeare-macbeth.txt is:  23140\n",
      "# of words in  whitman-leaves.txt is:  154883\n"
     ]
    }
   ],
   "source": [
    "# Print le nombre de mots dans chaque livre\n",
    "for text in nltk.corpus.gutenberg.fileids():\n",
    "    print('# of words in ',text,'is: ', len(nltk.corpus.gutenberg.words(text)))"
   ]
  },
  {
   "cell_type": "code",
   "execution_count": 77,
   "id": "41be7769-7870-4ac1-847d-5d7aaaab4f78",
   "metadata": {},
   "outputs": [
    {
     "name": "stdout",
     "output_type": "stream",
     "text": [
      "639662\n"
     ]
    }
   ],
   "source": [
    "# Télécharger un livre spécifique depuis le site Gutenberg \n",
    "# Nettoyer le texte en supprimant des caractères indésirables\n",
    "# Compter le nombre total de caractères.\n",
    "\n",
    "# Ici, vous devez utiliser le package 'requests'\n",
    "\n",
    "import requests\n",
    "#choose a book in Gutenberg project website the https://www.gutenberg.org/ebooks and get the reference number of the book, here 5258 !\n",
    "r = requests.get(r'https://www.gutenberg.org/cache/epub/55860/pg55860.txt') # télécharger le fichier sous forme de texte brute\n",
    "Zarathoustra_Nietzsche = r.text # récupérer le contenu du texte en tant que chaîne de caractères\n",
    "\n",
    "\n",
    "########################\n",
    "#  Nettoyage du texte  #\n",
    "########################\n",
    "# ici on supprime les caractères spéciaux (sauts de lignes et tabulations)\n",
    "for char in [\"\\n\", \"\\r\", \"\\t\"]: \n",
    "    Zarathoustra_Nietzsche = Zarathoustra_Nietzsche.replace(char, \" \")\n",
    "\n",
    "\n",
    "#print number of characters in the book\n",
    "print(len(Zarathoustra_Nietzsche))"
   ]
  },
  {
   "cell_type": "code",
   "execution_count": 99,
   "id": "098a4855-079d-4a48-b761-4c5b0f5fe002",
   "metadata": {},
   "outputs": [
    {
     "name": "stdout",
     "output_type": "stream",
     "text": [
      "﻿The Project Gutenberg eBook of Ainsi Parlait Zarathoustra        This ebook is for the use of anyone anywhere in the United States and  most other parts of the world at no cost and with almost no restrictions  whatsoever. You may copy it, give it away or re-use it under the terms  of the Project Gutenberg License included with this ebook or online  at www.gutenberg.org. If you are not located in the United States,  you will have to check the laws of the country where you are located  before using this eBook.    Title: Ainsi Parlait Zarathoustra    Author: Friedrich Wilhelm Nietzsche    Release date: March 1, 2004 [eBook #5258]                  Most recently updated: October 4, 2014    Language: French    Credits: Produced by Walter Debeuf      *** START OF THE PROJECT GUTENBERG EBOOK AINSI PARLAIT ZARATHOUSTRA ***          Produced by Walter Debeuf                      AINSI PARLAIT ZARATHOUSTRA \n",
      "-------------------------------------------------\n",
      "*** END OF THE PROJECT GUTENBERG EBOOK AINSI PARLAIT ZARATHOUSTRA ***              Updated editions will replace the previous one—the old editions will  be renamed.    Creating the works from print editions not protected by U.S. copyright  law means that no one owns a United States copyright in these works,  so the Foundation (and you!) can copy and distribute it in the United  States without permission and without paying copyright  royalties. Special rules, set forth in the General Terms of Use part  of this license, apply to copying and distributing Project  Gutenberg™ electronic works to protect the PROJECT GUTENBERG™  concept and trademark. Project Gutenberg is a registered trademark,  and may not be used if you charge for an eBook, except by following  the terms of the trademark license, including paying royalties for use  of the Project Gutenberg trademark. If you do not charge anything for  copies of this eBook, complying with the trademark license is very  easy. You may use this eBook for nearly any purpose such as creation  of derivative works, reports, performances and research. Project  Gutenberg eBooks may be modified and printed and given away—you may  do practically ANYTHING in the United States with eBooks not protected  by U.S. copyright law. Redistribution is subject to the trademark  license, especially commercial redistribution.      START: FULL LICENSE    THE FU\n"
     ]
    }
   ],
   "source": [
    "#To see the project gutenburg introduction and footnotes\n",
    "print(Zarathoustra_Nietzsche[0:910]) \n",
    "print('-------------------------------------------------') \n",
    "print(Zarathoustra_Nietzsche[620818:622222]) "
   ]
  },
  {
   "cell_type": "code",
   "execution_count": null,
   "id": "eacf318f-9596-48a4-bc88-8b549a259987",
   "metadata": {},
   "outputs": [],
   "source": [
    "# you can also subset for the book text\n",
    "# (removing the project gutenburg introduction/footnotes)\n",
    "Zarathoustra_Nietzsche = Zarathoustra_Nietzsche[911:635986]\n",
    "#print(Zarathoustra_Nietzsche)"
   ]
  },
  {
   "cell_type": "code",
   "execution_count": null,
   "id": "c64e023e-d446-4f5a-9a5d-815f43e1e12a",
   "metadata": {},
   "outputs": [],
   "source": []
  },
  {
   "cell_type": "code",
   "execution_count": null,
   "id": "a977ba42-5685-4bdd-b47e-537f505b9967",
   "metadata": {},
   "outputs": [],
   "source": []
  },
  {
   "cell_type": "code",
   "execution_count": null,
   "id": "6ea11429-4daa-4e80-b97e-650f0e15a34b",
   "metadata": {},
   "outputs": [],
   "source": []
  },
  {
   "cell_type": "code",
   "execution_count": null,
   "id": "67f63660-fa29-4c24-8bed-896300e4ecb2",
   "metadata": {},
   "outputs": [],
   "source": []
  },
  {
   "cell_type": "code",
   "execution_count": null,
   "id": "9245d330-6349-45b7-976e-1608b766fe77",
   "metadata": {},
   "outputs": [],
   "source": []
  },
  {
   "cell_type": "code",
   "execution_count": null,
   "id": "2fea5bbe",
   "metadata": {},
   "outputs": [],
   "source": [
    "start_index = Zarathoustra_Nietzsche.find(\"*** START OF THE PROJECT GUTENBERG EBOOK\")\n",
    "end_index = Zarathoustra_Nietzsche.find(\"*** End of Project Gutenberg\")\n",
    "\n",
    "if start_index != -1 and end_index != -1:\n",
    "    Zarathoustra_Nietzsche = Zarathoustra_Nietzsche[start_index:end_index]\n",
    "    print(Zarathoustra_Nietzsche)"
   ]
  },
  {
   "cell_type": "markdown",
   "id": "fa0132b4",
   "metadata": {},
   "source": [
    "* Tokenizer le texte"
   ]
  },
  {
   "cell_type": "code",
   "execution_count": 109,
   "id": "0aa6bb2e-9cef-474d-88a9-259b4855345e",
   "metadata": {},
   "outputs": [],
   "source": [
    "\n",
    "from nltk.corpus import stopwords # le package pour supprimer les mots fonction\n",
    "from nltk import word_tokenize    # découper le texte en mots (en tokens)\n",
    "from nltk.tokenize import sent_tokenize # découper le texte en phrases\n",
    "import re                         # utiliser le regex\n",
    "\n",
    "# Choose your Text\n",
    "text = Zarathoustra_Nietzsche"
   ]
  },
  {
   "cell_type": "code",
   "execution_count": null,
   "id": "07bacf1a-6405-42d9-8e1f-a7de4d127c3e",
   "metadata": {},
   "outputs": [],
   "source": [
    "# convertir le texte en liste des tokens (mots, ponctuations)\n",
    "tokens = word_tokenize(text, language=\"french\") \n",
    "print(tokens)"
   ]
  },
  {
   "cell_type": "code",
   "execution_count": 115,
   "id": "21c7d1e5-a825-4056-a56f-6f57c3e5372a",
   "metadata": {},
   "outputs": [
    {
     "name": "stdout",
     "output_type": "stream",
     "text": [
      "[(',', 6560), ('de', 4082), ('.', 3607), ('et', 3216), ('la', 2294), ('!', 2251), ('le', 2013), (':', 1838), ('les', 1664), ('à', 1598), ('qui', 1589), ('que', 1572), ('-', 1476), ('des', 1191), ('il', 1002), ('est', 947), ('je', 916), ('en', 913), ('plus', 908), ('pas', 886)]\n"
     ]
    }
   ],
   "source": [
    "# print les 20 tokens les plus fréquents\n",
    "from collections import Counter\n",
    "print(Counter(tokens).most_common(20)) \n",
    "\n",
    "# le pb : les ponctuations sont comptées comme un mot"
   ]
  },
  {
   "cell_type": "code",
   "execution_count": 135,
   "id": "b4964a40-68e9-49ab-bd1d-98325d12df0a",
   "metadata": {},
   "outputs": [
    {
     "name": "stdout",
     "output_type": "stream",
     "text": [
      "[('de', 4088), ('et', 3217), ('la', 2299), ('est', 2092), ('le', 2032), ('les', 1671), ('à', 1615), ('il', 1594), ('qui', 1589), ('que', 1572), ('l', 1567), ('des', 1192), ('un', 1098), ('en', 1059), ('je', 1036), ('ce', 918), ('plus', 908), ('pas', 886), ('vous', 831), ('ne', 820)]\n"
     ]
    }
   ],
   "source": [
    "# Supprimer les ponctuations\n",
    "text_cleaned = re.sub(r'[^\\w\\s]', ' ', text) # re.sub(pattern, remplacement, text)\n",
    "\n",
    "#print(\"updated text with no punctuations :\", text_cleaned)\n",
    "tokens = word_tokenize(text_cleaned, language=\"french\")\n",
    "print(Counter(tokens).most_common(20))"
   ]
  },
  {
   "cell_type": "code",
   "execution_count": 137,
   "id": "3ba18dd8-9682-4068-bc9a-7b61e6fa47b8",
   "metadata": {},
   "outputs": [
    {
     "name": "stdout",
     "output_type": "stream",
     "text": [
      "[('plus', 919), ('a', 695), ('zarathoustra', 627), ('comme', 470), ('ainsi', 455), ('tout', 410), ('bien', 359), ('encore', 351), ('aussi', 330), ('être', 318), ('car', 317), ('tous', 317), ('homme', 305), ('celui', 283), ('là', 270), ('hommes', 268), ('vérité', 256), ('cette', 240), ('si', 234), ('dit', 218)]\n"
     ]
    }
   ],
   "source": [
    "# Supprimer les mots fonction\n",
    "mots_fonction = set(stopwords.words('french')) # charger les mots fonction du français\n",
    "\n",
    "tokens_cleaned = [mot.lower() for mot in tokens if mot.lower() not in mots_fonction]\n",
    "\n",
    "print(Counter(tokens_cleaned).most_common(20))\n",
    "\n",
    "# liste en compréhension est plus rapide et lisible qu'une boucle for classique"
   ]
  },
  {
   "cell_type": "code",
   "execution_count": 139,
   "id": "be0fa640-fc12-4f8b-a4cc-b0f7403e3d2a",
   "metadata": {},
   "outputs": [],
   "source": [
    "tokens_cleaned = list() \n",
    "\n",
    "for mot in tokens:\n",
    "    if mot.lower() not in mots_fonction:\n",
    "        tokens_cleaned.append(mot.lower())"
   ]
  },
  {
   "cell_type": "code",
   "execution_count": 141,
   "id": "7e856f64",
   "metadata": {},
   "outputs": [
    {
     "name": "stdout",
     "output_type": "stream",
     "text": [
      "[('plus', 919), ('a', 695), ('zarathoustra', 627), ('comme', 470), ('ainsi', 455), ('tout', 410), ('bien', 359), ('encore', 351), ('aussi', 330), ('être', 318), ('car', 317), ('tous', 317), ('homme', 305), ('celui', 283), ('là', 270), ('hommes', 268), ('vérité', 256), ('cette', 240), ('si', 234), ('dit', 218)]\n"
     ]
    }
   ],
   "source": [
    "# Utiliser une fonction anonyme avec lambda\n",
    "\n",
    "filtre_stopfr = lambda text: [mot.lower() for mot in text if mot.lower() not in mots_fonction]\n",
    "\n",
    "tokens_filtered = filtre_stopfr(tokens)\n",
    "print(Counter(tokens_cleaned).most_common(20))"
   ]
  },
  {
   "cell_type": "code",
   "execution_count": 143,
   "id": "e5d8c5f9-bfd7-4811-886f-fdb251eb424d",
   "metadata": {},
   "outputs": [],
   "source": [
    "# Do you want to exclude anything else?\n",
    "Stop_words=['plus']\n",
    "for x in Stop_words:\n",
    "    mots_fonction.add(x)"
   ]
  },
  {
   "cell_type": "code",
   "execution_count": 151,
   "id": "17304319-021e-4b39-8451-0716ddf4209e",
   "metadata": {},
   "outputs": [
    {
     "name": "stdout",
     "output_type": "stream",
     "text": [
      "[('a', 695), ('zarathoustra', 627), ('comme', 470), ('ainsi', 455), ('tout', 410), ('bien', 359), ('encore', 351), ('aussi', 330), ('être', 318), ('car', 317), ('tous', 317), ('homme', 305), ('celui', 283), ('là', 270), ('hommes', 268), ('vérité', 256), ('cette', 240), ('si', 234), ('dit', 218), ('donc', 217)]\n"
     ]
    }
   ],
   "source": [
    "tokens_Filtered = filtre_stopfr(tokens)\n",
    "print(Counter(tokens_Filtered).most_common(20))"
   ]
  },
  {
   "cell_type": "code",
   "execution_count": 157,
   "id": "34488df3-4bba-47c9-ab8b-9f698e81609e",
   "metadata": {},
   "outputs": [],
   "source": [
    "# Stemmatisation (racinisation)\n",
    "# Grouper les mots ayant la même racine syntaxique\n",
    "# ex) manger, mangeaient -> mang\n",
    "\n",
    "stemmer=nltk.stem.snowball.FrenchStemmer() # stemmer spécifique pour le français\n",
    "\n",
    "#from nltk.stem import SnowballStemmer\n",
    "#stemmer = SnowballStemmer(\"french\")\n",
    "\n",
    "Stemmed_Text = lambda text: [stemmer.stem(token) for token in text]\n",
    "\n",
    "#for w in tokens_Filtered:\n",
    " #   print(stemmer.stem(w))\n",
    "\n",
    "# liste_token = list()\n",
    "# for token in text:\n",
    "#     liste_token.append(stemmer.stem(token))\n"
   ]
  },
  {
   "cell_type": "code",
   "execution_count": 163,
   "id": "b53d8fb6-0bf3-4313-aa9d-88c52196377b",
   "metadata": {},
   "outputs": [
    {
     "name": "stdout",
     "output_type": "stream",
     "text": [
      "[('tout', 722), ('a', 695), ('zarathoustr', 627), ('homm', 573), ('comm', 471), ('ains', 455), ('chos', 366), ('parl', 361), ('bien', 361), ('encor', 351), ('grand', 341), ('être', 334), ('auss', 330), ('car', 317), ('tous', 317), ('cet', 314), ('vérit', 287), ('celui', 283), ('là', 270), ('aim', 255)]\n"
     ]
    }
   ],
   "source": [
    "tokens_stems = Stemmed_Text(tokens_Filtered)\n",
    "# print(tokens_stems)\n",
    "print(Counter(tokens_stems).most_common(20))"
   ]
  },
  {
   "cell_type": "code",
   "execution_count": null,
   "id": "ef6e10ec-490c-4037-8fb2-0489ca6e83a8",
   "metadata": {},
   "outputs": [],
   "source": [
    "!{sys.executable} -m pip install wordcloud"
   ]
  },
  {
   "cell_type": "markdown",
   "id": "d76859c4",
   "metadata": {},
   "source": [
    "Créer le nuage de mots"
   ]
  },
  {
   "cell_type": "code",
   "execution_count": null,
   "id": "39fe0f6e-c49b-45c4-b4c8-75f0ed694b78",
   "metadata": {},
   "outputs": [],
   "source": [
    "from wordcloud import WordCloud, STOPWORDS, ImageColorGenerator\n",
    "wordcloud = WordCloud(width= 1000, height = 600, max_words=100,\n",
    "                      random_state=1, background_color='White', colormap='cubehelix',\n",
    "                      collocations=False, stopwords = STOPWORDS).generate(text)\n",
    "plt.figure(figsize=(5, 5))\n",
    "plt.imshow(wordcloud) \n",
    "plt.axis(\"off\")\n",
    "plt.show()"
   ]
  },
  {
   "cell_type": "code",
   "execution_count": null,
   "id": "1375cf20-c7ff-42b1-8ce8-3fd5b383e914",
   "metadata": {},
   "outputs": [],
   "source": [
    "stopwords = stopwords.words('french')"
   ]
  },
  {
   "cell_type": "code",
   "execution_count": null,
   "id": "65ae5498-d2bb-485e-b7c2-d8004ab3194e",
   "metadata": {},
   "outputs": [],
   "source": [
    "print(stopwords)"
   ]
  },
  {
   "cell_type": "code",
   "execution_count": null,
   "id": "1be402d9-6e2d-4a20-9d7e-91ba469aa5a0",
   "metadata": {},
   "outputs": [],
   "source": [
    "wordcloud = WordCloud(width= 1000, height = 600, max_words=100,\n",
    "                      random_state=1, background_color='Black', colormap='Paired',\n",
    "                      collocations=False, stopwords = stopwords).generate(text)\n",
    "plt.figure(figsize=(7, 5))\n",
    "plt.imshow(wordcloud) \n",
    "plt.axis(\"off\")\n",
    "plt.show()"
   ]
  },
  {
   "cell_type": "code",
   "execution_count": null,
   "id": "8727ce19-7571-4a0d-abd1-a561e41821a5",
   "metadata": {},
   "outputs": [],
   "source": [
    "import numpy as np\n",
    "import os\n",
    "from PIL import Image\n",
    "\n",
    "folder = \".\"\n",
    "\n",
    "data = Image.open(os.path.join(folder, \"Nietzsche.jpg\"),'r')\n",
    "#mask = np.array(Image.open(\"Nietzsche.jpg\"))\n",
    "mask = np.array(data)\n",
    "\n",
    "mask.shape\n",
    "# Generating colors from image\n",
    "image_colors = ImageColorGenerator(mask)"
   ]
  },
  {
   "cell_type": "code",
   "execution_count": null,
   "id": "c25e00b9-3e00-4224-bac0-75cc516ddab6",
   "metadata": {},
   "outputs": [],
   "source": [
    "wordcloud = WordCloud(width= 1000, height = 600, max_words=700,\n",
    "                      random_state=1, background_color='Yellow', colormap='winter_r',\n",
    "                      collocations=False, stopwords = stopwords, mask = mask).generate(text)\n",
    "plt.figure(figsize=(5, 13))\n",
    "plt.imshow(wordcloud) \n",
    "#plt.imshow(wordcloud.recolor(color_func=image_colors), interpolation ='bilinear') # Using the color function here\n",
    "plt.axis(\"off\")\n",
    "plt.show()\n",
    "\n",
    "plt.imshow(mask) \n",
    "plt.axis(\"off\")\n",
    "plt.show()"
   ]
  },
  {
   "cell_type": "code",
   "execution_count": null,
   "id": "5fa0cbf1-7e86-4bd1-9797-97e9fc9d4f88",
   "metadata": {},
   "outputs": [],
   "source": []
  },
  {
   "cell_type": "code",
   "execution_count": null,
   "id": "86f5def9-4d77-4471-aeb8-b5b667158097",
   "metadata": {},
   "outputs": [],
   "source": []
  }
 ],
 "metadata": {
  "kernelspec": {
   "display_name": "Python [conda env:base] *",
   "language": "python",
   "name": "conda-base-py"
  },
  "language_info": {
   "codemirror_mode": {
    "name": "ipython",
    "version": 3
   },
   "file_extension": ".py",
   "mimetype": "text/x-python",
   "name": "python",
   "nbconvert_exporter": "python",
   "pygments_lexer": "ipython3",
   "version": "3.12.7"
  }
 },
 "nbformat": 4,
 "nbformat_minor": 5
}
